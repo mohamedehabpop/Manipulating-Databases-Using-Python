{
 "cells": [
  {
   "cell_type": "code",
   "execution_count": 2,
   "metadata": {},
   "outputs": [],
   "source": [
    "# importing psycopg2 to connect to our database \n",
    "import psycopg2 as pg"
   ]
  },
  {
   "cell_type": "code",
   "execution_count": 3,
   "metadata": {},
   "outputs": [],
   "source": [
    "# connecting to my database\n",
    "try:\n",
    "    \n",
    "    conn = pg.connect(\"host=127.0.0.1 dbname=postgres user=postgres password=root \")\n",
    "except pg.Error as e:\n",
    "    print(\"Error: connection Error \")\n",
    "    print(e)"
   ]
  },
  {
   "cell_type": "code",
   "execution_count": 5,
   "metadata": {},
   "outputs": [],
   "source": [
    "# creating cursor to throw some queries \n",
    "try:\n",
    "    cur = conn.cursor()\n",
    "    # cursor is used to execute the queries\n",
    "except pg.Error as e:\n",
    "    print(\"Error: cursor creation Error \")\n",
    "    print(e)"
   ]
  },
  {
   "cell_type": "code",
   "execution_count": 7,
   "metadata": {},
   "outputs": [],
   "source": [
    "# setting automatic commit \n",
    "# so we don't have to commit for every query \n",
    "conn.set_session(autocommit=True)"
   ]
  },
  {
   "cell_type": "code",
   "execution_count": 8,
   "metadata": {},
   "outputs": [],
   "source": [
    "# creating cursor to throw some queries \n",
    "try:\n",
    "    cur.execute(\"create database myfirstdb\")\n",
    "except pg.Error as e:\n",
    "    print(\"Error: cursor query Error \")\n",
    "    print(e)"
   ]
  },
  {
   "cell_type": "code",
   "execution_count": 9,
   "metadata": {},
   "outputs": [],
   "source": [
    "# closing the first connection \n",
    "try:\n",
    "    conn.close()\n",
    "except pg.Error as e:\n",
    "    print(e)\n",
    "\n",
    "# connecting to my new database\n",
    "try:\n",
    "    conn = pg.connect(\"host=127.0.0.1 dbname=myfirstdb user=postgres password=123/789/2000 \")\n",
    "except pg.Error as e:\n",
    "    print(\"Error: connection Error \")\n",
    "    print(e)\n",
    "\n",
    "try:\n",
    "    cur = conn.cursor()\n",
    "except pg.Error as e:\n",
    "    print(\"Error: cursor creation Error \")\n",
    "    print(e)\n",
    "\n",
    "conn.set_session(autocommit=True)"
   ]
  },
  {
   "cell_type": "code",
   "execution_count": 11,
   "metadata": {},
   "outputs": [],
   "source": [
    "# creating first table \n",
    "try:\n",
    "    cur.execute(\"CREATE TABLE IF NOT EXISTS students(student_id int,name varchar,age int, gender varchar, subject varchar, marks int);\")\n",
    "except pg.Error as e:\n",
    "    print(\"Error:  Execution Error \")\n",
    "    print(e)"
   ]
  },
  {
   "cell_type": "code",
   "execution_count": 20,
   "metadata": {},
   "outputs": [],
   "source": [
    "try:\n",
    "    cur.execute(\"INSERT INTO students (student_id,name,age,gender,subject,marks)\\\n",
    "        VALUES (%s,%s,%s,%s,%s,%s)\",\\\n",
    "            (6,\"omar \",22, \"Male\",\"math\",77))\n",
    "except pg.Error as e:\n",
    "    print(\"Error:  Execution Error \")\n",
    "    print(e)\n"
   ]
  },
  {
   "cell_type": "code",
   "execution_count": null,
   "metadata": {},
   "outputs": [],
   "source": [
    "try:\n",
    "    cur.execute(\"SELECT * FROM students;\")\n",
    "except pg.Error as e:\n",
    "    print(\"Error:  Execution Error \")\n",
    "    print(e)\n",
    "\n",
    "row = cur.fetchone()\n",
    "# fetchone is used to pull the rows from the table \n",
    "while row:\n",
    "    print(row)\n",
    "    row = cur.fetchone()"
   ]
  },
  {
   "cell_type": "code",
   "execution_count": null,
   "metadata": {},
   "outputs": [],
   "source": [
    "cur.close()\n",
    "conn.close()"
   ]
  }
 ],
 "metadata": {
  "kernelspec": {
   "display_name": "Python 3.10.7 64-bit",
   "language": "python",
   "name": "python3"
  },
  "language_info": {
   "codemirror_mode": {
    "name": "ipython",
    "version": 3
   },
   "file_extension": ".py",
   "mimetype": "text/x-python",
   "name": "python",
   "nbconvert_exporter": "python",
   "pygments_lexer": "ipython3",
   "version": "3.10.7 (tags/v3.10.7:6cc6b13, Sep  5 2022, 14:08:36) [MSC v.1933 64 bit (AMD64)]"
  },
  "orig_nbformat": 4,
  "vscode": {
   "interpreter": {
    "hash": "bcf3156e42c924e019736696b32abf1fe284236f2bdd771572f2f6f1e5f36244"
   }
  }
 },
 "nbformat": 4,
 "nbformat_minor": 2
}
