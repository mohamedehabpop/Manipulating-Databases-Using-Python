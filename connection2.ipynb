{
 "cells": [
  {
   "cell_type": "code",
   "execution_count": 1,
   "metadata": {},
   "outputs": [],
   "source": [
    "import psycopg2 as pg \n",
    "import pandas as pd "
   ]
  },
  {
   "cell_type": "code",
   "execution_count": 2,
   "metadata": {},
   "outputs": [],
   "source": [
    "def create_DB():\n",
    "    # connect to default DB\n",
    "    conn = pg.connect(\"host=127.0.0.1 dbname=postgres user=postgres password=root \")\n",
    "    # autocommit for every query \n",
    "    conn.set_session(autocommit=True)\n",
    "    # cursor to execute quries \n",
    "    cur = conn.cursor()\n",
    "\n",
    "    # creating our DB\n",
    "    cur.execute(\"DROP DATABASE IF EXISTS cars\")\n",
    "    cur.execute(\"CREATE DATABASE cars\")\n",
    "\n",
    "    # closing default connection \n",
    "    conn.close()\n",
    "\n",
    "    # connecting to our DB \n",
    "    conn = pg.connect(\"host=127.0.0.1 dbname=cars user=postgres password=root \")\n",
    "    # to avoid transaction errors \n",
    "    conn.set_session(autocommit=True)\n",
    "    cur = conn.cursor()\n",
    "\n",
    "    return cur , conn\n",
    "\n"
   ]
  },
  
  {
   "cell_type": "code",
   "execution_count": 3,
   "metadata": {},
   "outputs": [
    {
     "data": {
      "text/html": [
       "<div>\n",
       "<style scoped>\n",
       "    .dataframe tbody tr th:only-of-type {\n",
       "        vertical-align: middle;\n",
       "    }\n",
       "\n",
       "    .dataframe tbody tr th {\n",
       "        vertical-align: top;\n",
       "    }\n",
       "\n",
       "    .dataframe thead th {\n",
       "        text-align: right;\n",
       "    }\n",
       "</style>\n",
       "<table border=\"1\" class=\"dataframe\">\n",
       "  <thead>\n",
       "    <tr style=\"text-align: right;\">\n",
       "      <th></th>\n",
       "      <th>Make</th>\n",
       "      <th>Model</th>\n",
       "      <th>Price</th>\n",
       "      <th>Kilometer</th>\n",
       "      <th>Owner</th>\n",
       "      <th>Engine</th>\n",
       "      <th>Max Torque</th>\n",
       "    </tr>\n",
       "  </thead>\n",
       "  <tbody>\n",
       "    <tr>\n",
       "      <th>0</th>\n",
       "      <td>Honda</td>\n",
       "      <td>Amaze 1.2 VX i-VTEC</td>\n",
       "      <td>505000</td>\n",
       "      <td>87150</td>\n",
       "      <td>First</td>\n",
       "      <td>1198 cc</td>\n",
       "      <td>109 Nm @ 4500 rpm</td>\n",
       "    </tr>\n",
       "    <tr>\n",
       "      <th>1</th>\n",
       "      <td>Maruti Suzuki</td>\n",
       "      <td>Swift DZire VDI</td>\n",
       "      <td>450000</td>\n",
       "      <td>75000</td>\n",
       "      <td>Second</td>\n",
       "      <td>1248 cc</td>\n",
       "      <td>190 Nm @ 2000 rpm</td>\n",
       "    </tr>\n",
       "    <tr>\n",
       "      <th>2</th>\n",
       "      <td>Hyundai</td>\n",
       "      <td>i10 Magna 1.2 Kappa2</td>\n",
       "      <td>220000</td>\n",
       "      <td>67000</td>\n",
       "      <td>First</td>\n",
       "      <td>1197 cc</td>\n",
       "      <td>112.7619 Nm @ 4000 rpm</td>\n",
       "    </tr>\n",
       "    <tr>\n",
       "      <th>3</th>\n",
       "      <td>Toyota</td>\n",
       "      <td>Glanza G</td>\n",
       "      <td>799000</td>\n",
       "      <td>37500</td>\n",
       "      <td>First</td>\n",
       "      <td>1197 cc</td>\n",
       "      <td>113 Nm @ 4200 rpm</td>\n",
       "    </tr>\n",
       "    <tr>\n",
       "      <th>4</th>\n",
       "      <td>Toyota</td>\n",
       "      <td>Innova 2.4 VX 7 STR [2016-2020]</td>\n",
       "      <td>1950000</td>\n",
       "      <td>69000</td>\n",
       "      <td>First</td>\n",
       "      <td>2393 cc</td>\n",
       "      <td>343 Nm @ 1400 rpm</td>\n",
       "    </tr>\n",
       "  </tbody>\n",
       "</table>\n",
       "</div>"
      ],
      "text/plain": [
       "            Make                            Model    Price  Kilometer   Owner  \\\n",
       "0          Honda              Amaze 1.2 VX i-VTEC   505000      87150   First   \n",
       "1  Maruti Suzuki                  Swift DZire VDI   450000      75000  Second   \n",
       "2        Hyundai             i10 Magna 1.2 Kappa2   220000      67000   First   \n",
       "3         Toyota                         Glanza G   799000      37500   First   \n",
       "4         Toyota  Innova 2.4 VX 7 STR [2016-2020]  1950000      69000   First   \n",
       "\n",
       "    Engine              Max Torque  \n",
       "0  1198 cc       109 Nm @ 4500 rpm  \n",
       "1  1248 cc       190 Nm @ 2000 rpm  \n",
       "2  1197 cc  112.7619 Nm @ 4000 rpm  \n",
       "3  1197 cc       113 Nm @ 4200 rpm  \n",
       "4  2393 cc       343 Nm @ 1400 rpm  "
      ]
     },
     "execution_count": 3,
     "metadata": {},
     "output_type": "execute_result"
    }
   ],
   "source": [
    "# car details4\n",
    "car_details = pd.read_csv('Car details4.csv')\n",
    "car_details.columns\n",
    "car_details_cleaned = car_details[['Make','Model', 'Price','Kilometer','Owner','Engine','Max Torque']]\n",
    "car_details_cleaned.head()"
   ]
  },
  {
   "cell_type": "code",
   "execution_count": 4,
   "metadata": {},
   "outputs": [],
   "source": [
    "cur , conn = create_DB()"
   ]
  },
  {
   "cell_type": "code",
   "execution_count": 5,
   "metadata": {},
   "outputs": [],
   "source": [
    "cars_table_create = (\"\"\"CREATE TABLE IF NOT EXISTS car_details(\n",
    "    CAR_ID BIGSERIAL NOT NULL PRIMARY KEY,\n",
    "    Make VARCHAR,\n",
    "    model VARCHAR,\n",
    "    Price VARCHAR,\n",
    "    Kilometer VARCHAR,\n",
    "    Owner VARCHAR, \n",
    "    Engine VARCHAR,\n",
    "    Max_Torque VARCHAR\n",
    ");\"\"\")"
   ]
  },
  {
   "cell_type": "code",
   "execution_count": 6,
   "metadata": {},
   "outputs": [],
   "source": [
    "cur.execute(cars_table_create)\n",
    "conn.commit()"
   ]
  },
  {
   "cell_type": "code",
   "execution_count": 7,
   "metadata": {},
   "outputs": [],
   "source": [
    "cars_table_insert=(\"\"\"INSERT INTO car_details(\n",
    "    Make,\n",
    "    model,\n",
    "    Price,\n",
    "    Kilometer,\n",
    "    Owner,\n",
    "    Engine,\n",
    "    Max_Torque) \n",
    "    VALUES (%s,%s,%s,%s,%s,%s,%s)\n",
    "     \"\"\")"
   ]
  },
  {
   "cell_type": "code",
   "execution_count": 8,
   "metadata": {},
   "outputs": [],
   "source": [
    "for i , row in car_details_cleaned.iterrows():\n",
    "    cur.execute(cars_table_insert,list(row))"
   ]
  }
 ],
 "metadata": {
  "kernelspec": {
   "display_name": "Python 3",
   "language": "python",
   "name": "python3"
  },
  "language_info": {
   "codemirror_mode": {
    "name": "ipython",
    "version": 3
   },
   "file_extension": ".py",
   "mimetype": "text/x-python",
   "name": "python",
   "nbconvert_exporter": "python",
   "pygments_lexer": "ipython3",
   "version": "3.10.7"
  },
  "orig_nbformat": 4,
  "vscode": {
   "interpreter": {
    "hash": "bcf3156e42c924e019736696b32abf1fe284236f2bdd771572f2f6f1e5f36244"
   }
  }
 },
 "nbformat": 4,
 "nbformat_minor": 2
}
